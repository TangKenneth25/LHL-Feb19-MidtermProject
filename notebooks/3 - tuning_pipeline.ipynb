{
 "cells": [
  {
   "cell_type": "markdown",
   "metadata": {},
   "source": [
    "## Hyperparam Tuning\n",
    "\n",
    "Now that we know which models are performing better, it's time to perform cross validation and tune hyperparameters.\n",
    "- Do a google search for hyperparameter ranges for each type of model.\n",
    "\n",
    "GridSearch/RandomSearch are a great methods for checking off both of these tasks.\n",
    "\n",
    "There is a fairly significant issue with this approach for this particular problem (described below). But in the interest of creating a basic functional pipeline, you can just use the default Sklearn methods for now.\n",
    "\n",
    "## Preventing Data Leakage in Tuning - STRETCH\n",
    "\n",
    "> **This step doesn't need to be part of your Minimum Viable Product (MVP), but its highly recommended you complete it, if you have time!**\n",
    "\n",
    "BUT we have a problem - if we calculated a numerical value to encode city (such as the mean of sale prices in that city) on the training data, we can't cross validate \n",
    "- The rows in each validation fold were part of the original calculation of the mean for that city - that means we're leaking information!\n",
    "- While sklearn's built in functions are extremely useful, sometimes it is necessary to do things ourselves\n",
    "\n",
    "You need to create two functions to replicate what Gridsearch does under the hood. This is a challenging, real world data problem! To help you out, we've created some psuedocode and docstrings to get you started. \n",
    "\n",
    "**`custom_cross_validation()`**\n",
    "- Should take the training data, and divide it into multiple train/validation splits. \n",
    "- Look into `sklearn.model_selection.KFold` to accomplish this - the [documentation](https://scikit-learn.org/stable/modules/generated/sklearn.model_selection.KFold.html) shows how to split a dataframe and loop through the indexes of your split data. \n",
    "- Within your function, you should compute the city means on the training folds just like you did in Notebook 1 - you may have to re-join the city column to do this - and then join these values to the validation fold\n",
    "\n",
    "This psuedocode may help you fill in the function:\n",
    "\n",
    "```python\n",
    "kfold = KFold() # fit sklearn k folds on X_train\n",
    "train_folds = []\n",
    "val_folds = []\n",
    "for training_index, val_index in kfold.split(X_train):\n",
    "    train_fold, val_fold = #.iloc loop variables on X_train\n",
    "\n",
    "    # recompute training city means like you did in notebook 1 \n",
    "    # merge to validation fold\n",
    "        \n",
    "    train_folds.append(train_fold)\n",
    "    val_folds.append(val_fold)\n",
    "\n",
    "    return train_folds, val_folds\n",
    "```\n",
    "\n",
    "\n",
    "**`hyperparameter_search()`**\n",
    "- Should take the validation and training splits from your previous function, along with your dictionary of hyperparameter values\n",
    "- For each set of hyperparameter values, fit your chosen model on each set of training folds, and take the average of your chosen scoring metric. [itertools.product()](https://docs.python.org/3/library/itertools.html) will be helpful for looping through all combinations of hyperparameter values\n",
    "- Your function should output the hyperparameter values corresponding the highest average score across all folds. Alternatively, it could also output a model object fit on the full training dataset with these parameters.\n",
    "\n",
    "\n",
    "This psuedocode may help you fill in the function:\n",
    "\n",
    "```python\n",
    "hyperparams = # Generate hyperparam options with itertools\n",
    "hyperparam-scores = []\n",
    "for hyperparam-combo in hyperparams:\n",
    "\n",
    "    scores = []\n",
    "\n",
    "    for folds in allmyfolds:\n",
    "        # score fold the fold with the model/ hyperparams\n",
    "        scores.append(score-fold)\n",
    "        \n",
    "    score = scores.mean()\n",
    "    hyperparam-scores.append(score)\n",
    "# After loop, find max of hyperparam-scores. Best params are at same index in `hyperparams` loop iteratble\n",
    "```\n",
    "\n",
    "Docstrings have been provided below to get you started. Once you're done developing your functions, you should move them to `functions_variables.py` to keep your notebook clean \n",
    "\n",
    "Bear in mind that these instructions are just one way to tackle this problem - the inputs and output formats don't need to be exactly as specified here."
   ]
  },
  {
   "cell_type": "code",
   "execution_count": 45,
   "metadata": {},
   "outputs": [],
   "source": [
    "import pandas as pd\n",
    "import numpy as np\n",
    "import pickle\n",
    "\n",
    "from sklearn.preprocessing import StandardScaler\n",
    "\n",
    "from sklearn.model_selection import train_test_split, KFold\n",
    "\n",
    "from sklearn.linear_model import LinearRegression, Ridge, Lasso, ElasticNet\n",
    "from sklearn.ensemble import RandomForestRegressor, GradientBoostingRegressor\n",
    "from sklearn.svm import SVR\n",
    "from sklearn.tree import DecisionTreeRegressor\n",
    "\n",
    "from sklearn.metrics import mean_squared_error, r2_score, roc_auc_score\n",
    "\n",
    "from sklearn.metrics import accuracy_score\n",
    "from sklearn.model_selection import GridSearchCV, RandomizedSearchCV"
   ]
  },
  {
   "cell_type": "code",
   "execution_count": 48,
   "metadata": {},
   "outputs": [],
   "source": [
    "housingData = pd.read_csv('../data/housingData.csv')\n",
    "X_train, X_test, y_train, y_test = train_test_split(housingData.drop(columns=['description.sold_price', 'location.address.city']), housingData['description.sold_price'], test_size=0.2, random_state=42)"
   ]
  },
  {
   "cell_type": "code",
   "execution_count": 31,
   "metadata": {},
   "outputs": [],
   "source": [
    "train_df = pd.concat([X_train, y_train], axis=1)"
   ]
  },
  {
   "cell_type": "code",
   "execution_count": 32,
   "metadata": {},
   "outputs": [],
   "source": [
    "scaler = StandardScaler()\n",
    "X_train_scaled = scaler.fit_transform(X_train)"
   ]
  },
  {
   "cell_type": "code",
   "execution_count": 33,
   "metadata": {},
   "outputs": [
    {
     "name": "stdout",
     "output_type": "stream",
     "text": [
      "<class 'pandas.core.frame.DataFrame'>\n",
      "RangeIndex: 6597 entries, 0 to 6596\n",
      "Data columns (total 50 columns):\n",
      " #   Column                           Non-Null Count  Dtype  \n",
      "---  ------                           --------------  -----  \n",
      " 0   list_date                        6597 non-null   int64  \n",
      " 1   description.year_built           6597 non-null   float64\n",
      " 2   description.baths_3qtr           6597 non-null   float64\n",
      " 3   description.sold_date            6597 non-null   int64  \n",
      " 4   description.sold_price           6597 non-null   float64\n",
      " 5   description.baths_full           6597 non-null   float64\n",
      " 6   description.baths_half           6597 non-null   float64\n",
      " 7   description.lot_sqft             6597 non-null   float64\n",
      " 8   description.sqft                 6587 non-null   float64\n",
      " 9   description.baths                6597 non-null   float64\n",
      " 10  description.garage               6597 non-null   float64\n",
      " 11  description.stories              6597 non-null   float64\n",
      " 12  description.beds                 6597 non-null   float64\n",
      " 13  list_price                       6597 non-null   float64\n",
      " 14  property_id                      6597 non-null   float64\n",
      " 15  flags.is_foreclosure             6597 non-null   bool   \n",
      " 16  listing_id                       6597 non-null   float64\n",
      " 17  price_reduced_amount             6597 non-null   float64\n",
      " 18  location.address.postal_code     6597 non-null   float64\n",
      " 19  location.address.coordinate.lon  6597 non-null   float64\n",
      " 20  location.address.coordinate.lat  6597 non-null   float64\n",
      " 21  location.address.city            6597 non-null   object \n",
      " 22  cityAverageListPrice             6597 non-null   float64\n",
      " 23  garage_1_or_more                 6597 non-null   bool   \n",
      " 24  central_air                      6597 non-null   bool   \n",
      " 25  community_outdoor_space          6597 non-null   bool   \n",
      " 26  dishwasher                       6597 non-null   bool   \n",
      " 27  basement                         6597 non-null   bool   \n",
      " 28  fireplace                        6597 non-null   bool   \n",
      " 29  forced_air                       6597 non-null   bool   \n",
      " 30  single_story                     6597 non-null   bool   \n",
      " 31  two_or_more_stories              6597 non-null   bool   \n",
      " 32  garage_2_or_more                 6597 non-null   bool   \n",
      " 33  hardwood_floors                  6597 non-null   bool   \n",
      " 34  washer_dryer                     6597 non-null   bool   \n",
      " 35  laundry_room                     6597 non-null   bool   \n",
      " 36  shopping                         6597 non-null   bool   \n",
      " 37  recreation_facilities            6597 non-null   bool   \n",
      " 38  dining_room                      6597 non-null   bool   \n",
      " 39  other_tags                       6597 non-null   bool   \n",
      " 40  apartment                        6597 non-null   bool   \n",
      " 41  condo                            6597 non-null   bool   \n",
      " 42  condos                           6597 non-null   bool   \n",
      " 43  land                             6597 non-null   bool   \n",
      " 44  mobile                           6597 non-null   bool   \n",
      " 45  multi_family                     6597 non-null   bool   \n",
      " 46  other                            6597 non-null   bool   \n",
      " 47  other_types                      6597 non-null   bool   \n",
      " 48  single_family                    6597 non-null   bool   \n",
      " 49  townhomes                        6597 non-null   bool   \n",
      "dtypes: bool(28), float64(19), int64(2), object(1)\n",
      "memory usage: 1.3+ MB\n"
     ]
    }
   ],
   "source": [
    "housingData.info()"
   ]
  },
  {
   "cell_type": "code",
   "execution_count": 36,
   "metadata": {},
   "outputs": [],
   "source": [
    "# develop your custom functions here\n",
    "\n",
    "def custom_cross_validation(training_data, n_splits =5):\n",
    "    '''creates n_splits sets of training and validation folds\n",
    "\n",
    "    Args:\n",
    "      training_data: the dataframe of features and target to be divided into folds\n",
    "      n_splits: the number of sets of folds to be created\n",
    "\n",
    "    Returns:\n",
    "      A tuple of lists, where the first index is a list of the training folds, \n",
    "      and the second the corresponding validation fold\n",
    "\n",
    "    Example:\n",
    "        >>> output = custom_cross_validation(train_df, n_splits = 10)\n",
    "        >>> output[0][0] # The first training fold\n",
    "        >>> output[1][0] # The first validation fold\n",
    "        >>> output[0][1] # The second training fold\n",
    "        >>> output[1][1] # The second validation fold... etc.\n",
    "    '''\n",
    "\n",
    "    kfold = KFold(n_splits=n_splits)\n",
    "    training_folds = []\n",
    "    validation_folds = []\n",
    "\n",
    "    for train_index, val_index in kfold.split(train_df):\n",
    "      train_fold = train_df.iloc[train_index].copy()\n",
    "      val_fold = train_df.iloc[val_index].copy()\n",
    "\n",
    "      # Compute city means in the training fold\n",
    "      city_means = train_fold.groupby(city_column)[target_column].mean().reset_index()\n",
    "      city_means.columns = [city_column, f'{target_column}_city_mean']\n",
    "\n",
    "      # Merge these means into the validation fold based on the city column\n",
    "      val_fold = val_fold.merge(city_means, on=city_column, how='left')\n",
    "\n",
    "      training_folds.append(train_fold)\n",
    "      validation_folds.append(val_fold)\n",
    "\n",
    "    \n",
    "\n",
    "    return training_folds, validation_folds\n",
    "\n",
    "def hyperparameter_search(training_folds, validation_folds, param_grid):\n",
    "    '''outputs the best combination of hyperparameter settings in the param grid, \n",
    "    given the training and validation folds\n",
    "\n",
    "    Args:\n",
    "      training_folds: the list of training fold dataframes\n",
    "      validation_folds: the list of validation fold dataframes\n",
    "      param_grid: the dictionary of possible hyperparameter values for the chosen model\n",
    "\n",
    "    Returns:\n",
    "      A list of the best hyperparameter settings based on the chosen metric\n",
    "\n",
    "    Example:\n",
    "        >>> param_grid = {\n",
    "          'max_depth': [None, 10, 20, 30],\n",
    "          'min_samples_split': [2, 5, 10],\n",
    "          'min_samples_leaf': [1, 2, 4],\n",
    "          'max_features': ['sqrt', 'log2']} # for random forest\n",
    "        >>> hyperparameter_search(output[0], output[1], param_grid = param_grid) \n",
    "        # assuming 'ouput' is the output of custom_cross_validation()\n",
    "        [20, 5, 2, 'log2'] # hyperparams in order\n",
    "    '''\n",
    "\n",
    "    return hyperparameters\n"
   ]
  },
  {
   "cell_type": "markdown",
   "metadata": {},
   "source": [
    "## Hyperparam Tuning"
   ]
  },
  {
   "cell_type": "code",
   "execution_count": 39,
   "metadata": {},
   "outputs": [
    {
     "name": "stdout",
     "output_type": "stream",
     "text": [
      "Number of folds: 1\n"
     ]
    }
   ],
   "source": [
    "# Checking the number of folds\n",
    "num_folds = len(output[0])\n",
    "print(f\"Number of folds: {num_folds}\")"
   ]
  },
  {
   "cell_type": "code",
   "execution_count": 38,
   "metadata": {},
   "outputs": [
    {
     "ename": "NameError",
     "evalue": "name 'city_column' is not defined",
     "output_type": "error",
     "traceback": [
      "\u001b[0;31m---------------------------------------------------------------------------\u001b[0m",
      "\u001b[0;31mNameError\u001b[0m                                 Traceback (most recent call last)",
      "Cell \u001b[0;32mIn[38], line 8\u001b[0m\n\u001b[1;32m      1\u001b[0m \u001b[39m# perform tuning and cross validation here \u001b[39;00m\n\u001b[1;32m      2\u001b[0m \u001b[39m# using GridsearchCV/ RandomsearchCV (MVP)\u001b[39;00m\n\u001b[1;32m      3\u001b[0m \u001b[39m# or your custom functions\u001b[39;00m\n\u001b[0;32m   (...)\u001b[0m\n\u001b[1;32m      6\u001b[0m \n\u001b[1;32m      7\u001b[0m \u001b[39m# Running the custom cross-validation function\u001b[39;00m\n\u001b[0;32m----> 8\u001b[0m output \u001b[39m=\u001b[39m custom_cross_validation(train_df, n_splits\u001b[39m=\u001b[39m\u001b[39m10\u001b[39m)\n",
      "Cell \u001b[0;32mIn[36], line 31\u001b[0m, in \u001b[0;36mcustom_cross_validation\u001b[0;34m(training_data, n_splits)\u001b[0m\n\u001b[1;32m     28\u001b[0m val_fold \u001b[39m=\u001b[39m train_df\u001b[39m.\u001b[39miloc[val_index]\u001b[39m.\u001b[39mcopy()\n\u001b[1;32m     30\u001b[0m \u001b[39m# Compute city means in the training fold\u001b[39;00m\n\u001b[0;32m---> 31\u001b[0m city_means \u001b[39m=\u001b[39m train_fold\u001b[39m.\u001b[39mgroupby(city_column)[target_column]\u001b[39m.\u001b[39mmean()\u001b[39m.\u001b[39mreset_index()\n\u001b[1;32m     32\u001b[0m city_means\u001b[39m.\u001b[39mcolumns \u001b[39m=\u001b[39m [city_column, \u001b[39mf\u001b[39m\u001b[39m'\u001b[39m\u001b[39m{\u001b[39;00mtarget_column\u001b[39m}\u001b[39;00m\u001b[39m_city_mean\u001b[39m\u001b[39m'\u001b[39m]\n\u001b[1;32m     34\u001b[0m \u001b[39m# Merge these means into the validation fold based on the city column\u001b[39;00m\n",
      "\u001b[0;31mNameError\u001b[0m: name 'city_column' is not defined"
     ]
    }
   ],
   "source": [
    "# perform tuning and cross validation here \n",
    "# using GridsearchCV/ RandomsearchCV (MVP)\n",
    "# or your custom functions\n",
    "\n",
    "\n",
    "\n",
    "# Running the custom cross-validation function\n",
    "output = custom_cross_validation(train_df, n_splits=10)\n",
    "\n",
    "# # Accessing the first training and validation fold\n",
    "# first_training_fold = output[0][0]\n",
    "# first_validation_fold = output[1][0]\n",
    "\n",
    "# # Accessing the second training and validation fold\n",
    "# second_training_fold = output[0][1]\n",
    "# second_validation_fold = output[1][1]"
   ]
  },
  {
   "cell_type": "code",
   "execution_count": null,
   "metadata": {},
   "outputs": [],
   "source": [
    "# using GridsearchCV/ RandomsearchCV (MVP)\n",
    "# Decision Tree\n",
    "# Random Forest\n",
    "# Gradient Booster\n",
    "# SVR\n",
    "# Gradient booster"
   ]
  },
  {
   "cell_type": "code",
   "execution_count": 40,
   "metadata": {},
   "outputs": [],
   "source": [
    "def perform_grid_search_cv(model, param_grid, X, y, cv=5):\n",
    "\n",
    "    grid_search = GridSearchCV(\n",
    "        estimator=model, \n",
    "        param_grid=param_grid, \n",
    "        cv=cv, \n",
    "        scoring='neg_mean_squared_error')\n",
    "    \n",
    "    # Fit the GridSearchCV on the housingData\n",
    "    grid_search.fit(X_train, y_train)\n",
    "\n",
    "    # Return the best estimator and the best parameters\n",
    "    return grid_search.best_estimator_, grid_search.best_params_, grid_search.best_score_\n",
    "\n"
   ]
  },
  {
   "cell_type": "code",
   "execution_count": 42,
   "metadata": {},
   "outputs": [],
   "source": [
    "# Linear Regression \n",
    "# Ridge\n",
    "\n",
    "from sklearn.linear_model import Ridge\n",
    "\n",
    "param_grid = {\n",
    "    'alpha': [0.1, 1.0, 10.0, 100.0],\n",
    "    'fit_intercept': [True, False],\n",
    "    'solver': ['auto', 'svd', 'cholesky', 'lsqr', 'sag']\n",
    "}"
   ]
  },
  {
   "cell_type": "code",
   "execution_count": 46,
   "metadata": {},
   "outputs": [],
   "source": [
    "# RandomForestRegressor\n",
    "param_grid = {\n",
    "    'n_estimators': [50, 100, 200],\n",
    "    'max_features': ['auto', 'sqrt', 'log2'],\n",
    "    'max_depth': [None, 10, 20, 30],\n",
    "    'min_samples_split': [2, 5, 10],\n",
    "    'min_samples_leaf': [1, 2, 4],\n",
    "    'bootstrap': [True, False]\n",
    "}\n",
    "grid_search = GridSearchCV(estimator=model, param_grid=param_grid, cv=5, n_jobs=-1, scoring='neg_mean_squared_error')"
   ]
  },
  {
   "cell_type": "code",
   "execution_count": null,
   "metadata": {},
   "outputs": [],
   "source": [
    "#Gradient Booster \n",
    "param_grid = {\n",
    "    'n_estimators': [50, 100, 150],\n",
    "    'learning_rate': [0.01, 0.05, 0.1],\n",
    "    'max_depth': [3, 5, 7],\n",
    "    'min_samples_split': [2, 5, 10],\n",
    "    'min_samples_leaf': [1, 2, 4]\n",
    "}\n",
    "\n",
    "grid_search = GridSearchCV(estimator=model, param_grid=param_grid, \n",
    "                           scoring='neg_mean_squared_error', cv=5, verbose=1, n_jobs=-1)"
   ]
  },
  {
   "cell_type": "code",
   "execution_count": null,
   "metadata": {},
   "outputs": [],
   "source": [
    "# SVR\n",
    "param_grid = {\n",
    "    'kernel': ['linear', 'rbf'],\n",
    "    'C': [0.1, 1, 10, 100],\n",
    "    'gamma': [0.1, 0.01, 0.001, 0.0001]\n",
    "}\n",
    "grid_search = GridSearchCV(estimator=model, param_grid=param_grid, cv=5, \n",
    "                           scoring='neg_mean_squared_error', verbose=1, n_jobs=-1)\n",
    "\n",
    "grid_search.fit(X_train, y_train)\n",
    "\n",
    "\n",
    "#Random Search\n",
    "param_grid = {\n",
    "    'kernel': ['linear', 'rbf', 'poly'],\n",
    "    'C': [0.1, 1, 10, 100],\n",
    "    'epsilon': [0.01, 0.1, 0.2, 0.5, 1],\n",
    "    'gamma': ['scale', 'auto', 0.1, 1]\n",
    "}"
   ]
  },
  {
   "cell_type": "code",
   "execution_count": null,
   "metadata": {},
   "outputs": [],
   "source": [
    "# XGbooster\n",
    "param_grid = {\n",
    "    'max_depth': [3, 5, 7],\n",
    "    'learning_rate': [0.1, 0.01, 0.001],\n",
    "    'n_estimators': [100, 200, 300],\n",
    "    'gamma': [0, 0.1, 0.3],\n",
    "    'subsample': [0.8, 1.0],\n",
    "    'colsample_bytree': [0.8, 1.0]\n",
    "}\n",
    "\n",
    "grid_search = GridSearchCV(estimator=model, param_grid=param_grid, \n",
    "                           cv=5, n_jobs=-1, scoring='neg_mean_squared_error', verbose=1)\n",
    "\n",
    "\n",
    "#Random Search\n",
    "param_grid = {\n",
    "    'learning_rate': [0.01, 0.1, 0.2, 0.3, 0.5],\n",
    "    'max_depth': [3, 5, 7, 10],\n",
    "    'min_child_weight': [1, 3, 5, 7],\n",
    "    'subsample': [0.6, 0.7, 0.8, 0.9, 1.0],\n",
    "    'colsample_bytree': [0.6, 0.7, 0.8, 0.9, 1.0],\n",
    "    'gamma': [0, 0.1, 0.2, 0.3, 0.4],\n",
    "    'reg_alpha': [0, 0.1, 0.5, 1.0],\n",
    "    'reg_lambda': [0, 1.0, 5.0, 10.0]\n",
    "}\n",
    "# Initialize RandomizedSearchCV\n",
    "random_search = RandomizedSearchCV(estimator=model,\n",
    "                                   param_distributions=param_grid,\n",
    "                                   n_iter=50,  # number of random combinations to try\n",
    "                                   scoring='neg_mean_squared_error',\n",
    "                                   cv=5,\n",
    "                                   verbose=1,\n",
    "                                   random_state=42,\n",
    "                                   n_jobs=-1)"
   ]
  },
  {
   "cell_type": "code",
   "execution_count": null,
   "metadata": {},
   "outputs": [],
   "source": [
    "print(\"Best parameters found: \", grid_search.best_params_)\n",
    "print(\"Best RMSE found: {:.4f}\".format(np.sqrt(-grid_search.best_score_)))"
   ]
  },
  {
   "cell_type": "code",
   "execution_count": null,
   "metadata": {},
   "outputs": [],
   "source": []
  },
  {
   "cell_type": "markdown",
   "metadata": {},
   "source": [
    "We want to make sure that we save our models.  In the old days, one just simply pickled (serialized) the model.  Now, however, certain model types have their own save format.  If the model is from sklearn, it can be pickled, if it's xgboost, for example, the newest format to save it in is JSON, but it can also be pickled.  It's a good idea to stay with the most current methods. \n",
    "- you may want to create a new `models/` subdirectory in your repo to stay organized"
   ]
  },
  {
   "cell_type": "code",
   "execution_count": null,
   "metadata": {},
   "outputs": [],
   "source": [
    "# save your best model here\n",
    "\n",
    "best_model = grid_search.best_estimator_\n",
    "\n",
    "filename = 'best_model.pkl'\n",
    "\n",
    "with open(filename, 'wb') as file:\n",
    "    pickle.dump(best_model, file)"
   ]
  },
  {
   "cell_type": "markdown",
   "metadata": {},
   "source": [
    "## Building a Pipeline (Stretch)\n",
    "\n",
    "> **This step doesn't need to be part of your Minimum Viable Product (MVP), but its highly recommended you complete it if you have time!**\n",
    "\n",
    "Once you've identified which model works the best, implement a prediction pipeline to make sure that you haven't leaked any data, and that the model could be easily deployed if desired.\n",
    "- Your pipeline should load the data, process it, load your saved tuned model, and output a set of predictions\n",
    "- Assume that the new data is in the same JSON format as your original data - you can use your original data to check that the pipeline works correctly\n",
    "- Beware that a pipeline can only handle functions with fit and transform methods.\n",
    "- Classes can be used to get around this, but now sklearn has a wrapper for user defined functions.\n",
    "- You can develop your functions or classes in the notebook here, but once they are working, you should import them from `functions_variables.py` "
   ]
  },
  {
   "cell_type": "code",
   "execution_count": null,
   "metadata": {},
   "outputs": [],
   "source": [
    "# Build pipeline here"
   ]
  },
  {
   "cell_type": "markdown",
   "metadata": {},
   "source": [
    "Pipelines come from sklearn.  When a pipeline is pickled, all of the information in the pipeline is stored with it.  For example, if we were deploying a model, and we had fit a scaler on the training data, we would want the same, already fitted scaling object to transform the new data with.  This is all stored when the pipeline is pickled.\n",
    "- save your final pipeline in your `models/` folder"
   ]
  },
  {
   "cell_type": "code",
   "execution_count": null,
   "metadata": {},
   "outputs": [],
   "source": [
    "# save your pipeline here"
   ]
  }
 ],
 "metadata": {
  "kernelspec": {
   "display_name": "base",
   "language": "python",
   "name": "python3"
  },
  "language_info": {
   "codemirror_mode": {
    "name": "ipython",
    "version": 3
   },
   "file_extension": ".py",
   "mimetype": "text/x-python",
   "name": "python",
   "nbconvert_exporter": "python",
   "pygments_lexer": "ipython3",
   "version": "3.11.7"
  },
  "vscode": {
   "interpreter": {
    "hash": "40d3a090f54c6569ab1632332b64b2c03c39dcf918b08424e98f38b5ae0af88f"
   }
  }
 },
 "nbformat": 4,
 "nbformat_minor": 2
}
