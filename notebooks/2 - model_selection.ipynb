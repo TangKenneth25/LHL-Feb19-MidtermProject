{
 "cells": [
  {
   "cell_type": "markdown",
   "metadata": {},
   "source": [
    "## Model Selection\n",
    "\n",
    "This notebook should include preliminary and baseline modeling.\n",
    "- Try as many different models as possible.\n",
    "- Don't worry about hyperparameter tuning or cross validation here.\n",
    "- Ideas include:\n",
    "    - linear regression\n",
    "    - support vector machines\n",
    "    - random forest\n",
    "    - xgboost"
   ]
  },
  {
   "cell_type": "code",
   "execution_count": 115,
   "metadata": {},
   "outputs": [],
   "source": [
    "# import models and fit\n",
    "import pandas as pd\n",
    "import numpy as np\n",
    "\n",
    "from sklearn.preprocessing import StandardScaler\n",
    "\n",
    "from sklearn.model_selection import train_test_split\n",
    "\n",
    "from sklearn.linear_model import LinearRegression\n",
    "from sklearn.ensemble import RandomForestRegressor, GradientBoostingRegressor\n",
    "from sklearn.svm import SVR\n",
    "from sklearn.tree import DecisionTreeRegressor\n",
    "\n",
    "from sklearn.metrics import mean_squared_error, r2_score, roc_auc_score\n",
    "\n",
    "import datetime"
   ]
  },
  {
   "cell_type": "code",
   "execution_count": 116,
   "metadata": {},
   "outputs": [],
   "source": [
    "# load data, clean data until EDA complete\n",
    "housingData = pd.read_csv('../data/housingData.csv')"
   ]
  },
  {
   "cell_type": "code",
   "execution_count": 117,
   "metadata": {},
   "outputs": [
    {
     "name": "stdout",
     "output_type": "stream",
     "text": [
      "<class 'pandas.core.frame.DataFrame'>\n",
      "RangeIndex: 6597 entries, 0 to 6596\n",
      "Data columns (total 48 columns):\n",
      " #   Column                           Non-Null Count  Dtype  \n",
      "---  ------                           --------------  -----  \n",
      " 0   list_date                        6597 non-null   int64  \n",
      " 1   description.year_built           6597 non-null   float64\n",
      " 2   description.baths_3qtr           6597 non-null   float64\n",
      " 3   description.sold_date            6597 non-null   int64  \n",
      " 4   description.sold_price           6597 non-null   float64\n",
      " 5   description.baths_full           6597 non-null   float64\n",
      " 6   description.baths_half           6597 non-null   float64\n",
      " 7   description.lot_sqft             6597 non-null   float64\n",
      " 8   description.sqft                 6597 non-null   float64\n",
      " 9   description.baths                6597 non-null   float64\n",
      " 10  description.garage               6597 non-null   float64\n",
      " 11  description.stories              6597 non-null   float64\n",
      " 12  description.beds                 6597 non-null   float64\n",
      " 13  list_price                       6597 non-null   float64\n",
      " 14  property_id                      6597 non-null   float64\n",
      " 15  flags.is_foreclosure             6597 non-null   bool   \n",
      " 16  listing_id                       6597 non-null   float64\n",
      " 17  price_reduced_amount             6597 non-null   float64\n",
      " 18  location.address.postal_code     6597 non-null   float64\n",
      " 19  location.address.coordinate.lon  6597 non-null   float64\n",
      " 20  location.address.coordinate.lat  6597 non-null   float64\n",
      " 21  garage_1_or_more                 6597 non-null   bool   \n",
      " 22  central_air                      6597 non-null   bool   \n",
      " 23  community_outdoor_space          6597 non-null   bool   \n",
      " 24  dishwasher                       6597 non-null   bool   \n",
      " 25  basement                         6597 non-null   bool   \n",
      " 26  fireplace                        6597 non-null   bool   \n",
      " 27  forced_air                       6597 non-null   bool   \n",
      " 28  single_story                     6597 non-null   bool   \n",
      " 29  two_or_more_stories              6597 non-null   bool   \n",
      " 30  garage_2_or_more                 6597 non-null   bool   \n",
      " 31  hardwood_floors                  6597 non-null   bool   \n",
      " 32  washer_dryer                     6597 non-null   bool   \n",
      " 33  laundry_room                     6597 non-null   bool   \n",
      " 34  shopping                         6597 non-null   bool   \n",
      " 35  recreation_facilities            6597 non-null   bool   \n",
      " 36  dining_room                      6597 non-null   bool   \n",
      " 37  other                            6597 non-null   bool   \n",
      " 38  cityAverageListPrice             6597 non-null   float64\n",
      " 39  apartment                        6597 non-null   bool   \n",
      " 40  condo                            6597 non-null   bool   \n",
      " 41  condos                           6597 non-null   bool   \n",
      " 42  land                             6597 non-null   bool   \n",
      " 43  mobile                           6597 non-null   bool   \n",
      " 44  multi_family                     6597 non-null   bool   \n",
      " 45  other.1                          6597 non-null   bool   \n",
      " 46  single_family                    6597 non-null   bool   \n",
      " 47  townhomes                        6597 non-null   bool   \n",
      "dtypes: bool(27), float64(19), int64(2)\n",
      "memory usage: 1.2 MB\n"
     ]
    }
   ],
   "source": [
    "housingData.info()"
   ]
  },
  {
   "cell_type": "code",
   "execution_count": 118,
   "metadata": {},
   "outputs": [],
   "source": [
    "# Splitting training and testing data \n",
    "# Run for all columns\n",
    "X_train, X_test, y_train, y_test = train_test_split(housingData.drop(columns=['description.sold_price']), housingData['description.sold_price'], test_size=0.2, random_state=42)"
   ]
  },
  {
   "cell_type": "code",
   "execution_count": 131,
   "metadata": {},
   "outputs": [],
   "source": [
    "# Splitting training and testing data \n",
    "# Run for only list price, cityAverageListPrice, sqft\n",
    "columns = ['cityAverageListPrice','list_price','description.sqft']\n",
    "X_train, X_test, y_train, y_test = train_test_split(housingData[columns], housingData['description.sold_price'], test_size=0.2, random_state=42)\n"
   ]
  },
  {
   "cell_type": "code",
   "execution_count": 145,
   "metadata": {},
   "outputs": [],
   "source": [
    "# Splitting training and testing data \n",
    "# Run for only list price, cityAverageListPrice, sqft\n",
    "columns = ['list_price','description.sqft']\n",
    "X_train, X_test, y_train, y_test = train_test_split(housingData[columns], housingData['description.sold_price'], test_size=0.2, random_state=42)\n"
   ]
  },
  {
   "cell_type": "code",
   "execution_count": 70,
   "metadata": {},
   "outputs": [],
   "source": [
    "# scaler = StandardScaler()\n",
    "# X_train_scaled = scaler.fit_transform(X_train)"
   ]
  },
  {
   "cell_type": "code",
   "execution_count": 168,
   "metadata": {},
   "outputs": [
    {
     "name": "stdout",
     "output_type": "stream",
     "text": [
      "1087161009689.8822 0.9167663340105557\n"
     ]
    }
   ],
   "source": [
    "# Linear Regression\n",
    "model = LinearRegression()\n",
    "model.fit(X_train, y_train)\n",
    "\n",
    "y_pred_LR = model.predict(X_test)\n",
    "\n",
    "mse_LR = mean_squared_error(y_test, y_pred_LR)\n",
    "r2_LR = r2_score(y_test[900:1100], y_pred_LR[900:1100])\n",
    "\n",
    "print(mse_LR, r2_LR)"
   ]
  },
  {
   "cell_type": "code",
   "execution_count": 186,
   "metadata": {},
   "outputs": [],
   "source": [
    "diffprice = housingData['list_price'] - housingData['description.sold_price']\n",
    "diffs = diffprice[abs(diffprice)/housingData['list_price'] > 0.3].index"
   ]
  },
  {
   "cell_type": "code",
   "execution_count": 187,
   "metadata": {},
   "outputs": [
    {
     "data": {
      "text/html": [
       "<div>\n",
       "<style scoped>\n",
       "    .dataframe tbody tr th:only-of-type {\n",
       "        vertical-align: middle;\n",
       "    }\n",
       "\n",
       "    .dataframe tbody tr th {\n",
       "        vertical-align: top;\n",
       "    }\n",
       "\n",
       "    .dataframe thead th {\n",
       "        text-align: right;\n",
       "    }\n",
       "</style>\n",
       "<table border=\"1\" class=\"dataframe\">\n",
       "  <thead>\n",
       "    <tr style=\"text-align: right;\">\n",
       "      <th></th>\n",
       "      <th>list_price</th>\n",
       "      <th>description.sold_price</th>\n",
       "    </tr>\n",
       "  </thead>\n",
       "  <tbody>\n",
       "    <tr>\n",
       "      <th>5</th>\n",
       "      <td>30000</td>\n",
       "      <td>10000</td>\n",
       "    </tr>\n",
       "    <tr>\n",
       "      <th>28</th>\n",
       "      <td>225000</td>\n",
       "      <td>30000</td>\n",
       "    </tr>\n",
       "    <tr>\n",
       "      <th>44</th>\n",
       "      <td>1058179</td>\n",
       "      <td>710000</td>\n",
       "    </tr>\n",
       "    <tr>\n",
       "      <th>47</th>\n",
       "      <td>1058179</td>\n",
       "      <td>534900</td>\n",
       "    </tr>\n",
       "    <tr>\n",
       "      <th>49</th>\n",
       "      <td>1058179</td>\n",
       "      <td>430000</td>\n",
       "    </tr>\n",
       "    <tr>\n",
       "      <th>...</th>\n",
       "      <td>...</td>\n",
       "      <td>...</td>\n",
       "    </tr>\n",
       "    <tr>\n",
       "      <th>6529</th>\n",
       "      <td>19900</td>\n",
       "      <td>9000</td>\n",
       "    </tr>\n",
       "    <tr>\n",
       "      <th>6537</th>\n",
       "      <td>30000</td>\n",
       "      <td>48500</td>\n",
       "    </tr>\n",
       "    <tr>\n",
       "      <th>6582</th>\n",
       "      <td>257442</td>\n",
       "      <td>162000</td>\n",
       "    </tr>\n",
       "    <tr>\n",
       "      <th>6589</th>\n",
       "      <td>257442</td>\n",
       "      <td>676860</td>\n",
       "    </tr>\n",
       "    <tr>\n",
       "      <th>6592</th>\n",
       "      <td>257442</td>\n",
       "      <td>349990</td>\n",
       "    </tr>\n",
       "  </tbody>\n",
       "</table>\n",
       "<p>398 rows × 2 columns</p>\n",
       "</div>"
      ],
      "text/plain": [
       "      list_price  description.sold_price\n",
       "5          30000                   10000\n",
       "28        225000                   30000\n",
       "44       1058179                  710000\n",
       "47       1058179                  534900\n",
       "49       1058179                  430000\n",
       "...          ...                     ...\n",
       "6529       19900                    9000\n",
       "6537       30000                   48500\n",
       "6582      257442                  162000\n",
       "6589      257442                  676860\n",
       "6592      257442                  349990\n",
       "\n",
       "[398 rows x 2 columns]"
      ]
     },
     "execution_count": 187,
     "metadata": {},
     "output_type": "execute_result"
    }
   ],
   "source": [
    "pd.options.display.float_format = '{:.0f}'.format\n",
    "housingData[['list_price','description.sold_price']].iloc[diffs]"
   ]
  },
  {
   "cell_type": "code",
   "execution_count": 150,
   "metadata": {},
   "outputs": [
    {
     "name": "stdout",
     "output_type": "stream",
     "text": [
      "1096401940025.8744 0.09411833709319561\n"
     ]
    }
   ],
   "source": [
    "# Decision Tree\n",
    "tree_model = DecisionTreeRegressor(random_state=42)\n",
    "tree_model.fit(X_train, y_train)\n",
    "\n",
    "y_pred_tree = tree_model.predict(X_test)\n",
    "\n",
    "mse_tree = mean_squared_error(y_test, y_pred_tree)\n",
    "r2_tree = r2_score(y_test, y_pred_tree)\n",
    "\n",
    "print(mse_tree, r2_tree)"
   ]
  },
  {
   "cell_type": "code",
   "execution_count": 151,
   "metadata": {},
   "outputs": [
    {
     "name": "stdout",
     "output_type": "stream",
     "text": [
      "1096796499681.2084 0.09379233953368626\n"
     ]
    }
   ],
   "source": [
    "# Random Forest\n",
    "forest_model = RandomForestRegressor(random_state=42)\n",
    "forest_model.fit(X_train, y_train)\n",
    "y_pred_forest = forest_model.predict(X_test)\n",
    "\n",
    "mse_forest = mean_squared_error(y_test, y_pred_forest)\n",
    "r2_forest = r2_score(y_test, y_pred_forest)\n",
    "\n",
    "print(mse_forest, r2_forest)"
   ]
  },
  {
   "cell_type": "code",
   "execution_count": 152,
   "metadata": {},
   "outputs": [
    {
     "name": "stdout",
     "output_type": "stream",
     "text": [
      "1094508003931.4076 0.09568316648291231\n"
     ]
    }
   ],
   "source": [
    "# Gradient Booster\n",
    "gb_model = GradientBoostingRegressor(random_state=42)\n",
    "gb_model.fit(X_train, y_train)\n",
    "\n",
    "y_pred_gb = gb_model.predict(X_test)\n",
    "\n",
    "mse_gb = mean_squared_error(y_test, y_pred_gb)\n",
    "r2_gb = r2_score(y_test, y_pred_gb)\n",
    "\n",
    "print(mse_gb, r2_gb)"
   ]
  },
  {
   "cell_type": "code",
   "execution_count": 153,
   "metadata": {},
   "outputs": [
    {
     "name": "stdout",
     "output_type": "stream",
     "text": [
      "1224417437122.868 -0.011652080811508814\n"
     ]
    }
   ],
   "source": [
    "# SVR\n",
    "svr_model = SVR(kernel='rbf')\n",
    "svr_model.fit(X_train, y_train)\n",
    "\n",
    "y_pred_svr = svr_model.predict(X_test)\n",
    "\n",
    "mse_svr = mean_squared_error(y_test, y_pred_svr)\n",
    "r2_svr = r2_score(y_test, y_pred_svr)\n",
    "\n",
    "print(mse_svr, r2_svr)"
   ]
  },
  {
   "cell_type": "code",
   "execution_count": 154,
   "metadata": {},
   "outputs": [],
   "source": [
    "# ALL SO LOW EW\n",
    "# All Overfitted. \n",
    "# Implement methods to reduce overfitting"
   ]
  },
  {
   "cell_type": "markdown",
   "metadata": {},
   "source": [
    "Consider what metrics you want to use to evaluate success.\n",
    "- If you think about mean squared error, can we actually relate to the amount of error?\n",
    "- Try root mean squared error so that error is closer to the original units (dollars)\n",
    "- What does RMSE do to outliers?\n",
    "- Is mean absolute error a good metric for this problem?\n",
    "- What about R^2? Adjusted R^2?\n",
    "- Briefly describe your reasons for picking the metrics you use"
   ]
  },
  {
   "cell_type": "code",
   "execution_count": 56,
   "metadata": {},
   "outputs": [],
   "source": [
    "# gather evaluation metrics and compare results"
   ]
  },
  {
   "cell_type": "code",
   "execution_count": 112,
   "metadata": {},
   "outputs": [],
   "source": [
    "mse = mean_squared_error(y_test,pred_price)\n",
    "r2 = r2_score(y_test,pred_price)"
   ]
  },
  {
   "cell_type": "code",
   "execution_count": 114,
   "metadata": {},
   "outputs": [
    {
     "name": "stdout",
     "output_type": "stream",
     "text": [
      "1089716073640.0072 0.09964240955102\n"
     ]
    }
   ],
   "source": [
    "print(mse,r2)"
   ]
  },
  {
   "cell_type": "markdown",
   "metadata": {},
   "source": [
    "## Feature Selection - STRETCH\n",
    "\n",
    "> **This step doesn't need to be part of your Minimum Viable Product (MVP), but its recommended you complete it if you have time!**\n",
    "\n",
    "Even with all the preprocessing we did in Notebook 1, you probably still have a lot of features. Are they all important for prediction?\n",
    "\n",
    "Investigate some feature selection algorithms (Lasso, RFE, Forward/Backward Selection)\n",
    "- Perform feature selection to get a reduced subset of your original features\n",
    "- Refit your models with this reduced dimensionality - how does performance change on your chosen metrics?\n",
    "- Based on this, should you include feature selection in your final pipeline? Explain\n",
    "\n",
    "Remember, feature selection often doesn't directly improve performance, but if performance remains the same, a simpler model is often preferrable. \n",
    "\n"
   ]
  },
  {
   "cell_type": "code",
   "execution_count": null,
   "metadata": {},
   "outputs": [],
   "source": [
    "# perform feature selection \n",
    "# refit models\n",
    "# gather evaluation metrics and compare to the previous step (full feature set)"
   ]
  },
  {
   "cell_type": "markdown",
   "metadata": {},
   "source": []
  }
 ],
 "metadata": {
  "kernelspec": {
   "display_name": "Python 3",
   "language": "python",
   "name": "python3"
  },
  "language_info": {
   "codemirror_mode": {
    "name": "ipython",
    "version": 3
   },
   "file_extension": ".py",
   "mimetype": "text/x-python",
   "name": "python",
   "nbconvert_exporter": "python",
   "pygments_lexer": "ipython3",
   "version": "3.9.19"
  }
 },
 "nbformat": 4,
 "nbformat_minor": 2
}
